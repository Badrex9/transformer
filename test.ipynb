{
 "cells": [
  {
   "cell_type": "code",
   "execution_count": 2,
   "metadata": {},
   "outputs": [
    {
     "name": "stdout",
     "output_type": "stream",
     "text": [
      "Defaulting to user installation because normal site-packages is not writeable\n",
      "Collecting torch\n",
      "  Downloading torch-2.3.0-cp310-cp310-manylinux1_x86_64.whl (779.1 MB)\n",
      "\u001b[2K     \u001b[90m━━━━━━━━━━━━━━━━━━━━━━━━━━━━━━━━━━━━━━━\u001b[0m \u001b[32m779.1/779.1 MB\u001b[0m \u001b[31m8.5 MB/s\u001b[0m eta \u001b[36m0:00:00\u001b[0m00:01\u001b[0m00:01\u001b[0m\n",
      "\u001b[?25hCollecting nvidia-cuda-runtime-cu12==12.1.105\n",
      "  Using cached nvidia_cuda_runtime_cu12-12.1.105-py3-none-manylinux1_x86_64.whl (823 kB)\n",
      "Collecting fsspec\n",
      "  Using cached fsspec-2024.3.1-py3-none-any.whl (171 kB)\n",
      "Collecting nvidia-cuda-cupti-cu12==12.1.105\n",
      "  Using cached nvidia_cuda_cupti_cu12-12.1.105-py3-none-manylinux1_x86_64.whl (14.1 MB)\n",
      "Collecting nvidia-nvtx-cu12==12.1.105\n",
      "  Using cached nvidia_nvtx_cu12-12.1.105-py3-none-manylinux1_x86_64.whl (99 kB)\n",
      "Collecting triton==2.3.0\n",
      "  Downloading triton-2.3.0-cp310-cp310-manylinux_2_17_x86_64.manylinux2014_x86_64.whl (168.1 MB)\n",
      "\u001b[2K     \u001b[90m━━━━━━━━━━━━━━━━━━━━━━━━━━━━━━━━━━━━━━\u001b[0m \u001b[32m168.1/168.1 MB\u001b[0m \u001b[31m25.3 MB/s\u001b[0m eta \u001b[36m0:00:00\u001b[0m00:01\u001b[0m00:01\u001b[0m\n",
      "\u001b[?25hCollecting sympy\n",
      "  Using cached sympy-1.12-py3-none-any.whl (5.7 MB)\n",
      "Collecting nvidia-cublas-cu12==12.1.3.1\n",
      "  Using cached nvidia_cublas_cu12-12.1.3.1-py3-none-manylinux1_x86_64.whl (410.6 MB)\n",
      "Requirement already satisfied: typing-extensions>=4.8.0 in /home/enzozamai/.local/lib/python3.10/site-packages (from torch) (4.10.0)\n",
      "Collecting filelock\n",
      "  Downloading filelock-3.14.0-py3-none-any.whl (12 kB)\n",
      "Collecting nvidia-cudnn-cu12==8.9.2.26\n",
      "  Using cached nvidia_cudnn_cu12-8.9.2.26-py3-none-manylinux1_x86_64.whl (731.7 MB)\n",
      "Collecting nvidia-nccl-cu12==2.20.5\n",
      "  Downloading nvidia_nccl_cu12-2.20.5-py3-none-manylinux2014_x86_64.whl (176.2 MB)\n",
      "\u001b[2K     \u001b[90m━━━━━━━━━━━━━━━━━━━━━━━━━━━━━━━━━━━━━━\u001b[0m \u001b[32m176.2/176.2 MB\u001b[0m \u001b[31m26.5 MB/s\u001b[0m eta \u001b[36m0:00:00\u001b[0m00:01\u001b[0m00:01\u001b[0m\n",
      "\u001b[?25hCollecting nvidia-cusparse-cu12==12.1.0.106\n",
      "  Using cached nvidia_cusparse_cu12-12.1.0.106-py3-none-manylinux1_x86_64.whl (196.0 MB)\n",
      "Collecting nvidia-curand-cu12==10.3.2.106\n",
      "  Using cached nvidia_curand_cu12-10.3.2.106-py3-none-manylinux1_x86_64.whl (56.5 MB)\n",
      "Collecting nvidia-cusolver-cu12==11.4.5.107\n",
      "  Using cached nvidia_cusolver_cu12-11.4.5.107-py3-none-manylinux1_x86_64.whl (124.2 MB)\n",
      "Collecting jinja2\n",
      "  Downloading jinja2-3.1.4-py3-none-any.whl (133 kB)\n",
      "\u001b[2K     \u001b[90m━━━━━━━━━━━━━━━━━━━━━━━━━━━━━━━━━━━━━━\u001b[0m \u001b[32m133.3/133.3 KB\u001b[0m \u001b[31m28.0 MB/s\u001b[0m eta \u001b[36m0:00:00\u001b[0m\n",
      "\u001b[?25hRequirement already satisfied: networkx in /home/enzozamai/.local/lib/python3.10/site-packages (from torch) (3.2.1)\n",
      "Collecting nvidia-cuda-nvrtc-cu12==12.1.105\n",
      "  Using cached nvidia_cuda_nvrtc_cu12-12.1.105-py3-none-manylinux1_x86_64.whl (23.7 MB)\n",
      "Collecting nvidia-cufft-cu12==11.0.2.54\n",
      "  Using cached nvidia_cufft_cu12-11.0.2.54-py3-none-manylinux1_x86_64.whl (121.6 MB)\n",
      "Collecting nvidia-nvjitlink-cu12\n",
      "  Using cached nvidia_nvjitlink_cu12-12.4.127-py3-none-manylinux2014_x86_64.whl (21.1 MB)\n",
      "Requirement already satisfied: MarkupSafe>=2.0 in /home/enzozamai/.local/lib/python3.10/site-packages (from jinja2->torch) (2.1.5)\n",
      "Collecting mpmath>=0.19\n",
      "  Using cached mpmath-1.3.0-py3-none-any.whl (536 kB)\n",
      "Installing collected packages: mpmath, sympy, nvidia-nvtx-cu12, nvidia-nvjitlink-cu12, nvidia-nccl-cu12, nvidia-curand-cu12, nvidia-cufft-cu12, nvidia-cuda-runtime-cu12, nvidia-cuda-nvrtc-cu12, nvidia-cuda-cupti-cu12, nvidia-cublas-cu12, jinja2, fsspec, filelock, triton, nvidia-cusparse-cu12, nvidia-cudnn-cu12, nvidia-cusolver-cu12, torch\n",
      "Successfully installed filelock-3.14.0 fsspec-2024.3.1 jinja2-3.1.4 mpmath-1.3.0 nvidia-cublas-cu12-12.1.3.1 nvidia-cuda-cupti-cu12-12.1.105 nvidia-cuda-nvrtc-cu12-12.1.105 nvidia-cuda-runtime-cu12-12.1.105 nvidia-cudnn-cu12-8.9.2.26 nvidia-cufft-cu12-11.0.2.54 nvidia-curand-cu12-10.3.2.106 nvidia-cusolver-cu12-11.4.5.107 nvidia-cusparse-cu12-12.1.0.106 nvidia-nccl-cu12-2.20.5 nvidia-nvjitlink-cu12-12.4.127 nvidia-nvtx-cu12-12.1.105 sympy-1.12 torch-2.3.0 triton-2.3.0\n",
      "Note: you may need to restart the kernel to use updated packages.\n"
     ]
    }
   ],
   "source": [
    "%pip install torch"
   ]
  },
  {
   "cell_type": "code",
   "execution_count": 13,
   "metadata": {},
   "outputs": [
    {
     "name": "stdout",
     "output_type": "stream",
     "text": [
      "tensor([[1509,  563,  745, 1027, 4473, 4231, 1755, 1862, 3778, 2273],\n",
      "        [2469, 1360, 4693, 1304, 2619, 3832, 2067, 2713, 2432, 4695],\n",
      "        [2223, 4799, 3291, 3959,  444, 2923, 4047, 1753, 1128,  612],\n",
      "        [1336,  651, 4123, 3849, 1086, 3700, 2670, 1126, 1353, 3141],\n",
      "        [4828, 4646, 2620, 3538, 4696, 2804, 2360, 2775,  525, 3178],\n",
      "        [3998, 4454, 2170,  233, 3548, 4064, 1258, 4439, 4620,  520],\n",
      "        [4774, 4007, 2771, 4719, 2705, 1172, 3364, 1457, 3148, 2167],\n",
      "        [ 428, 2200, 2234,  917, 3459, 3470,  291, 4879, 3059, 2930],\n",
      "        [1473, 1950, 1180, 3292, 4233, 2276, 2275, 3559,  178, 1419],\n",
      "        [2899, 1224, 4658, 1240, 1422,  522,   88, 1635, 2899, 2772],\n",
      "        [1593, 4751,  165, 3945, 2236, 3108, 1451, 4282, 4077, 1589],\n",
      "        [ 623, 1999, 1652, 2502, 2715, 4009,  593, 1105,  913, 4548],\n",
      "        [ 848, 1801, 2894, 2153,  674, 1652, 3136, 1792, 2917, 3448],\n",
      "        [2286, 1521,  862,  224, 2376,  199, 1818, 2989, 4904, 1249],\n",
      "        [ 881, 1332,  789, 2535, 1505, 1600, 1594, 4209,   98, 4324],\n",
      "        [ 733, 1271,  221, 4197, 1795, 3323, 3364, 1726,  238, 4602],\n",
      "        [3234, 3253, 2927, 2054, 3239, 2359, 3131, 1038, 2760, 4473],\n",
      "        [4346, 2382, 2172, 3584, 2886, 3706, 4112,  987, 2460, 4399],\n",
      "        [3317, 4265, 4042, 3713, 3172, 4004, 2920, 4096, 4799, 3906],\n",
      "        [2359, 4447, 3137, 3696, 2326, 3576, 3433, 4535, 3528, 4522],\n",
      "        [ 405, 4524, 4059, 1047, 2368, 1010,   60, 1397, 4930, 1913],\n",
      "        [4566, 4781, 4481, 1461,  355, 4651, 2966, 2414, 3689, 4382],\n",
      "        [ 423,  713, 3970, 4282, 1747, 3172, 4899,  183, 3001, 2345],\n",
      "        [ 950, 3971, 2562,  150, 2290,  454, 1903, 2769,  350, 1410],\n",
      "        [1279,  646, 4917,  658, 2675, 1441,  904, 3617, 1485,  331],\n",
      "        [2020, 3988, 2136, 2223, 4636,  701, 3800, 2226, 3377, 1361],\n",
      "        [3055, 4844, 3909,  666,   28, 4309, 3996, 2105, 4564, 3570],\n",
      "        [1677,  156, 4618, 2233, 4667, 4818,  861, 2858, 4800, 2815],\n",
      "        [1811, 2688,  668,    4,  460,  454,  559, 4437, 1935, 2922],\n",
      "        [ 985,  350, 4152,  721, 2708,  854, 3371, 1095,  231, 3074],\n",
      "        [4036, 1600, 2712, 3683, 1616, 2729, 1444, 4670, 1246,   89],\n",
      "        [3415, 3846, 2784, 3335,  929, 2708, 3927, 2537, 2821, 2529],\n",
      "        [ 325, 1969, 1138, 4358, 1748,   64,  647, 4463, 3036, 2861],\n",
      "        [1011, 2025, 4493, 3461, 4578,  852, 3842, 3063, 3032, 1986],\n",
      "        [ 280, 3581, 1880, 4353, 2612, 4810, 2793, 3277, 2126, 3836],\n",
      "        [4694, 3322, 3372, 2292, 1563, 3184, 3965, 1565,  731, 3020],\n",
      "        [ 974, 4134, 3354, 1099, 4330, 1222, 2066, 4882, 3048, 4562],\n",
      "        [3963, 2471,  343, 3602, 4983, 3424,  283, 4892,    5, 1090],\n",
      "        [2095, 4210, 3412, 1184, 1232, 2476,  119, 2970, 2091, 2736],\n",
      "        [ 977, 3409, 4430,  342, 4349,  655,  122, 3514,  913,  457],\n",
      "        [4406, 4430, 2523,    5, 3777,  655, 1310, 4002, 3870, 3061],\n",
      "        [ 109, 1129, 4879, 1835, 3695, 1994,  960, 4505, 2533, 1446],\n",
      "        [3657, 2242, 1166, 4063, 4568, 2042, 2339, 4552, 1513, 2895],\n",
      "        [ 411, 3335, 3601, 4471, 3080,  835, 4501, 4519, 2675, 4524],\n",
      "        [1095,  456, 4980, 2257, 3769, 3725, 1574, 4984, 4403, 1111],\n",
      "        [3320, 3112, 2956,  722, 2005, 3140, 2506, 2347, 2399, 3750],\n",
      "        [ 225, 1527, 3471, 4699, 3042,  574, 4219, 3064,  540, 2638],\n",
      "        [3422, 3253,  831, 1442, 4391, 4958, 3977, 4059,  847,  452],\n",
      "        [ 940, 1585, 2942, 3383, 4197, 4736, 1886,  532, 1020, 2382],\n",
      "        [4656, 2098, 4695, 1891, 2332, 4938, 1377,  152, 3407, 3219],\n",
      "        [1790, 1318,  931,  417, 3218,  696, 2690, 4241, 2828, 1063],\n",
      "        [4752, 3519, 4961, 1285, 1412, 1868, 2697, 2979, 4902, 4505],\n",
      "        [ 745, 2220,  799, 4970,  500, 3684, 3094, 4999,  264,  299],\n",
      "        [ 816,  432,  217, 1310,  744, 3460, 2147, 4873, 3204, 2848],\n",
      "        [ 756,  984, 1400, 2524, 3276, 1833, 3639, 3230, 2946, 1193],\n",
      "        [1388,  412, 4940, 1314, 4148, 2893, 3620, 3250, 2809, 1162],\n",
      "        [3379, 4678, 3098, 1761,  969,    2,  659, 3643, 1049, 1192],\n",
      "        [ 228, 2722,  305, 4316,  897, 3220, 1251, 4226, 4361, 4766],\n",
      "        [ 225, 1986, 2242, 3162,  638, 1367, 4544, 1994, 1864,  459],\n",
      "        [2004, 1750, 3341, 1856, 4392, 1037, 3442, 1892, 1539, 1960],\n",
      "        [4198,  177, 4362,  603,  865, 3852, 2585, 2689, 3683, 1465],\n",
      "        [1920, 4832, 4333, 4841, 3848, 2619, 3719, 2323, 3153, 1373],\n",
      "        [4500,  365, 3427, 1119, 4542, 4838, 2824, 1595, 3152, 4507],\n",
      "        [3040,  508, 3347, 3547,  686,  918, 1121,  116, 1732, 1770]])\n",
      "torch.Size([64, 10])\n",
      "tensor([[1509,  563,  745, 1027, 4473, 4231, 1755, 1862, 3778],\n",
      "        [2469, 1360, 4693, 1304, 2619, 3832, 2067, 2713, 2432],\n",
      "        [2223, 4799, 3291, 3959,  444, 2923, 4047, 1753, 1128],\n",
      "        [1336,  651, 4123, 3849, 1086, 3700, 2670, 1126, 1353],\n",
      "        [4828, 4646, 2620, 3538, 4696, 2804, 2360, 2775,  525],\n",
      "        [3998, 4454, 2170,  233, 3548, 4064, 1258, 4439, 4620],\n",
      "        [4774, 4007, 2771, 4719, 2705, 1172, 3364, 1457, 3148],\n",
      "        [ 428, 2200, 2234,  917, 3459, 3470,  291, 4879, 3059],\n",
      "        [1473, 1950, 1180, 3292, 4233, 2276, 2275, 3559,  178],\n",
      "        [2899, 1224, 4658, 1240, 1422,  522,   88, 1635, 2899],\n",
      "        [1593, 4751,  165, 3945, 2236, 3108, 1451, 4282, 4077],\n",
      "        [ 623, 1999, 1652, 2502, 2715, 4009,  593, 1105,  913],\n",
      "        [ 848, 1801, 2894, 2153,  674, 1652, 3136, 1792, 2917],\n",
      "        [2286, 1521,  862,  224, 2376,  199, 1818, 2989, 4904],\n",
      "        [ 881, 1332,  789, 2535, 1505, 1600, 1594, 4209,   98],\n",
      "        [ 733, 1271,  221, 4197, 1795, 3323, 3364, 1726,  238],\n",
      "        [3234, 3253, 2927, 2054, 3239, 2359, 3131, 1038, 2760],\n",
      "        [4346, 2382, 2172, 3584, 2886, 3706, 4112,  987, 2460],\n",
      "        [3317, 4265, 4042, 3713, 3172, 4004, 2920, 4096, 4799],\n",
      "        [2359, 4447, 3137, 3696, 2326, 3576, 3433, 4535, 3528],\n",
      "        [ 405, 4524, 4059, 1047, 2368, 1010,   60, 1397, 4930],\n",
      "        [4566, 4781, 4481, 1461,  355, 4651, 2966, 2414, 3689],\n",
      "        [ 423,  713, 3970, 4282, 1747, 3172, 4899,  183, 3001],\n",
      "        [ 950, 3971, 2562,  150, 2290,  454, 1903, 2769,  350],\n",
      "        [1279,  646, 4917,  658, 2675, 1441,  904, 3617, 1485],\n",
      "        [2020, 3988, 2136, 2223, 4636,  701, 3800, 2226, 3377],\n",
      "        [3055, 4844, 3909,  666,   28, 4309, 3996, 2105, 4564],\n",
      "        [1677,  156, 4618, 2233, 4667, 4818,  861, 2858, 4800],\n",
      "        [1811, 2688,  668,    4,  460,  454,  559, 4437, 1935],\n",
      "        [ 985,  350, 4152,  721, 2708,  854, 3371, 1095,  231],\n",
      "        [4036, 1600, 2712, 3683, 1616, 2729, 1444, 4670, 1246],\n",
      "        [3415, 3846, 2784, 3335,  929, 2708, 3927, 2537, 2821],\n",
      "        [ 325, 1969, 1138, 4358, 1748,   64,  647, 4463, 3036],\n",
      "        [1011, 2025, 4493, 3461, 4578,  852, 3842, 3063, 3032],\n",
      "        [ 280, 3581, 1880, 4353, 2612, 4810, 2793, 3277, 2126],\n",
      "        [4694, 3322, 3372, 2292, 1563, 3184, 3965, 1565,  731],\n",
      "        [ 974, 4134, 3354, 1099, 4330, 1222, 2066, 4882, 3048],\n",
      "        [3963, 2471,  343, 3602, 4983, 3424,  283, 4892,    5],\n",
      "        [2095, 4210, 3412, 1184, 1232, 2476,  119, 2970, 2091],\n",
      "        [ 977, 3409, 4430,  342, 4349,  655,  122, 3514,  913],\n",
      "        [4406, 4430, 2523,    5, 3777,  655, 1310, 4002, 3870],\n",
      "        [ 109, 1129, 4879, 1835, 3695, 1994,  960, 4505, 2533],\n",
      "        [3657, 2242, 1166, 4063, 4568, 2042, 2339, 4552, 1513],\n",
      "        [ 411, 3335, 3601, 4471, 3080,  835, 4501, 4519, 2675],\n",
      "        [1095,  456, 4980, 2257, 3769, 3725, 1574, 4984, 4403],\n",
      "        [3320, 3112, 2956,  722, 2005, 3140, 2506, 2347, 2399],\n",
      "        [ 225, 1527, 3471, 4699, 3042,  574, 4219, 3064,  540],\n",
      "        [3422, 3253,  831, 1442, 4391, 4958, 3977, 4059,  847],\n",
      "        [ 940, 1585, 2942, 3383, 4197, 4736, 1886,  532, 1020],\n",
      "        [4656, 2098, 4695, 1891, 2332, 4938, 1377,  152, 3407],\n",
      "        [1790, 1318,  931,  417, 3218,  696, 2690, 4241, 2828],\n",
      "        [4752, 3519, 4961, 1285, 1412, 1868, 2697, 2979, 4902],\n",
      "        [ 745, 2220,  799, 4970,  500, 3684, 3094, 4999,  264],\n",
      "        [ 816,  432,  217, 1310,  744, 3460, 2147, 4873, 3204],\n",
      "        [ 756,  984, 1400, 2524, 3276, 1833, 3639, 3230, 2946],\n",
      "        [1388,  412, 4940, 1314, 4148, 2893, 3620, 3250, 2809],\n",
      "        [3379, 4678, 3098, 1761,  969,    2,  659, 3643, 1049],\n",
      "        [ 228, 2722,  305, 4316,  897, 3220, 1251, 4226, 4361],\n",
      "        [ 225, 1986, 2242, 3162,  638, 1367, 4544, 1994, 1864],\n",
      "        [2004, 1750, 3341, 1856, 4392, 1037, 3442, 1892, 1539],\n",
      "        [4198,  177, 4362,  603,  865, 3852, 2585, 2689, 3683],\n",
      "        [1920, 4832, 4333, 4841, 3848, 2619, 3719, 2323, 3153],\n",
      "        [4500,  365, 3427, 1119, 4542, 4838, 2824, 1595, 3152],\n",
      "        [3040,  508, 3347, 3547,  686,  918, 1121,  116, 1732]])\n",
      "torch.Size([64, 9])\n"
     ]
    }
   ],
   "source": [
    "import torch\n",
    "import numpy as np\n",
    "import torch.nn as nn\n",
    "\n",
    "src_vocab_size = 5000\n",
    "tgt_vocab_size = 5000\n",
    "d_model = 512\n",
    "num_heads = 8\n",
    "num_layers = 6 #RTIDS\n",
    "d_ff = 1024 #RTIDS\n",
    "max_seq_length = 10\n",
    "dropout = 0.5 #RTIDS\n",
    "\n",
    "embedding = nn.Embedding(10,10)\n",
    "\n",
    "\n",
    "\n",
    "src_data = torch.randint(1, src_vocab_size, (64, max_seq_length))  # (batch_size, seq_length)  --------------------A changer--------------------\n",
    "tgt_data = torch.randint(1, tgt_vocab_size, (64, max_seq_length))  # (batch_size, seq_length)  --------------------A changer--------------------\n",
    "\n",
    "print(src_data)\n",
    "print(np.shape(src_data))\n",
    "print(src_data[:, :-1])\n",
    "print(np.shape(src_data[:, :-1]))\n",
    "\n"
   ]
  },
  {
   "cell_type": "code",
   "execution_count": 15,
   "metadata": {},
   "outputs": [
    {
     "name": "stdout",
     "output_type": "stream",
     "text": [
      "Defaulting to user installation because normal site-packages is not writeable\n",
      "Collecting torchvision\n",
      "  Downloading torchvision-0.18.0-cp310-cp310-manylinux1_x86_64.whl (7.0 MB)\n",
      "\u001b[2K     \u001b[90m━━━━━━━━━━━━━━━━━━━━━━━━━━━━━━━━━━━━━━━━\u001b[0m \u001b[32m7.0/7.0 MB\u001b[0m \u001b[31m30.1 MB/s\u001b[0m eta \u001b[36m0:00:00\u001b[0m00:01\u001b[0m00:01\u001b[0m\n",
      "\u001b[?25hRequirement already satisfied: numpy in /home/enzozamai/.local/lib/python3.10/site-packages (from torchvision) (1.26.4)\n",
      "Requirement already satisfied: torch==2.3.0 in /home/enzozamai/.local/lib/python3.10/site-packages (from torchvision) (2.3.0)\n",
      "Requirement already satisfied: pillow!=8.3.*,>=5.3.0 in /usr/lib/python3/dist-packages (from torchvision) (9.0.1)\n",
      "Requirement already satisfied: jinja2 in /home/enzozamai/.local/lib/python3.10/site-packages (from torch==2.3.0->torchvision) (3.1.4)\n",
      "Requirement already satisfied: nvidia-cusolver-cu12==11.4.5.107 in /home/enzozamai/.local/lib/python3.10/site-packages (from torch==2.3.0->torchvision) (11.4.5.107)\n",
      "Requirement already satisfied: typing-extensions>=4.8.0 in /home/enzozamai/.local/lib/python3.10/site-packages (from torch==2.3.0->torchvision) (4.10.0)\n",
      "Requirement already satisfied: filelock in /home/enzozamai/.local/lib/python3.10/site-packages (from torch==2.3.0->torchvision) (3.14.0)\n",
      "Requirement already satisfied: fsspec in /home/enzozamai/.local/lib/python3.10/site-packages (from torch==2.3.0->torchvision) (2024.3.1)\n",
      "Requirement already satisfied: nvidia-cublas-cu12==12.1.3.1 in /home/enzozamai/.local/lib/python3.10/site-packages (from torch==2.3.0->torchvision) (12.1.3.1)\n",
      "Requirement already satisfied: nvidia-cufft-cu12==11.0.2.54 in /home/enzozamai/.local/lib/python3.10/site-packages (from torch==2.3.0->torchvision) (11.0.2.54)\n",
      "Requirement already satisfied: triton==2.3.0 in /home/enzozamai/.local/lib/python3.10/site-packages (from torch==2.3.0->torchvision) (2.3.0)\n",
      "Requirement already satisfied: nvidia-curand-cu12==10.3.2.106 in /home/enzozamai/.local/lib/python3.10/site-packages (from torch==2.3.0->torchvision) (10.3.2.106)\n",
      "Requirement already satisfied: nvidia-cuda-cupti-cu12==12.1.105 in /home/enzozamai/.local/lib/python3.10/site-packages (from torch==2.3.0->torchvision) (12.1.105)\n",
      "Requirement already satisfied: nvidia-cusparse-cu12==12.1.0.106 in /home/enzozamai/.local/lib/python3.10/site-packages (from torch==2.3.0->torchvision) (12.1.0.106)\n",
      "Requirement already satisfied: nvidia-nvtx-cu12==12.1.105 in /home/enzozamai/.local/lib/python3.10/site-packages (from torch==2.3.0->torchvision) (12.1.105)\n",
      "Requirement already satisfied: nvidia-cuda-runtime-cu12==12.1.105 in /home/enzozamai/.local/lib/python3.10/site-packages (from torch==2.3.0->torchvision) (12.1.105)\n",
      "Requirement already satisfied: nvidia-nccl-cu12==2.20.5 in /home/enzozamai/.local/lib/python3.10/site-packages (from torch==2.3.0->torchvision) (2.20.5)\n",
      "Requirement already satisfied: nvidia-cudnn-cu12==8.9.2.26 in /home/enzozamai/.local/lib/python3.10/site-packages (from torch==2.3.0->torchvision) (8.9.2.26)\n",
      "Requirement already satisfied: nvidia-cuda-nvrtc-cu12==12.1.105 in /home/enzozamai/.local/lib/python3.10/site-packages (from torch==2.3.0->torchvision) (12.1.105)\n",
      "Requirement already satisfied: sympy in /home/enzozamai/.local/lib/python3.10/site-packages (from torch==2.3.0->torchvision) (1.12)\n",
      "Requirement already satisfied: networkx in /home/enzozamai/.local/lib/python3.10/site-packages (from torch==2.3.0->torchvision) (3.2.1)\n",
      "Requirement already satisfied: nvidia-nvjitlink-cu12 in /home/enzozamai/.local/lib/python3.10/site-packages (from nvidia-cusolver-cu12==11.4.5.107->torch==2.3.0->torchvision) (12.4.127)\n",
      "Requirement already satisfied: MarkupSafe>=2.0 in /home/enzozamai/.local/lib/python3.10/site-packages (from jinja2->torch==2.3.0->torchvision) (2.1.5)\n",
      "Requirement already satisfied: mpmath>=0.19 in /home/enzozamai/.local/lib/python3.10/site-packages (from sympy->torch==2.3.0->torchvision) (1.3.0)\n",
      "Installing collected packages: torchvision\n",
      "Successfully installed torchvision-0.18.0\n",
      "Note: you may need to restart the kernel to use updated packages.\n"
     ]
    }
   ],
   "source": [
    "%pip install torchvision"
   ]
  },
  {
   "cell_type": "code",
   "execution_count": 16,
   "metadata": {},
   "outputs": [
    {
     "name": "stderr",
     "output_type": "stream",
     "text": [
      "2024-05-08 15:39:39.926826: I tensorflow/core/util/port.cc:113] oneDNN custom operations are on. You may see slightly different numerical results due to floating-point round-off errors from different computation orders. To turn them off, set the environment variable `TF_ENABLE_ONEDNN_OPTS=0`.\n",
      "2024-05-08 15:39:40.286517: I tensorflow/core/platform/cpu_feature_guard.cc:210] This TensorFlow binary is optimized to use available CPU instructions in performance-critical operations.\n",
      "To enable the following instructions: AVX2 AVX_VNNI FMA, in other operations, rebuild TensorFlow with the appropriate compiler flags.\n",
      "2024-05-08 15:39:40.983496: W tensorflow/compiler/tf2tensorrt/utils/py_utils.cc:38] TF-TRT Warning: Could not find TensorRT\n"
     ]
    },
    {
     "name": "stdout",
     "output_type": "stream",
     "text": [
      "Downloading http://fashion-mnist.s3-website.eu-central-1.amazonaws.com/train-images-idx3-ubyte.gz\n",
      "Downloading http://fashion-mnist.s3-website.eu-central-1.amazonaws.com/train-images-idx3-ubyte.gz to ./data/FashionMNIST/raw/train-images-idx3-ubyte.gz\n"
     ]
    },
    {
     "name": "stderr",
     "output_type": "stream",
     "text": [
      "100%|██████████| 26421880/26421880 [00:12<00:00, 2169642.08it/s]\n"
     ]
    },
    {
     "name": "stdout",
     "output_type": "stream",
     "text": [
      "Extracting ./data/FashionMNIST/raw/train-images-idx3-ubyte.gz to ./data/FashionMNIST/raw\n",
      "\n",
      "Downloading http://fashion-mnist.s3-website.eu-central-1.amazonaws.com/train-labels-idx1-ubyte.gz\n",
      "Downloading http://fashion-mnist.s3-website.eu-central-1.amazonaws.com/train-labels-idx1-ubyte.gz to ./data/FashionMNIST/raw/train-labels-idx1-ubyte.gz\n"
     ]
    },
    {
     "name": "stderr",
     "output_type": "stream",
     "text": [
      "100%|██████████| 29515/29515 [00:00<00:00, 297276.57it/s]\n"
     ]
    },
    {
     "name": "stdout",
     "output_type": "stream",
     "text": [
      "Extracting ./data/FashionMNIST/raw/train-labels-idx1-ubyte.gz to ./data/FashionMNIST/raw\n",
      "\n",
      "Downloading http://fashion-mnist.s3-website.eu-central-1.amazonaws.com/t10k-images-idx3-ubyte.gz\n",
      "Downloading http://fashion-mnist.s3-website.eu-central-1.amazonaws.com/t10k-images-idx3-ubyte.gz to ./data/FashionMNIST/raw/t10k-images-idx3-ubyte.gz\n"
     ]
    },
    {
     "name": "stderr",
     "output_type": "stream",
     "text": [
      "100%|██████████| 4422102/4422102 [00:00<00:00, 4840257.72it/s]\n"
     ]
    },
    {
     "name": "stdout",
     "output_type": "stream",
     "text": [
      "Extracting ./data/FashionMNIST/raw/t10k-images-idx3-ubyte.gz to ./data/FashionMNIST/raw\n",
      "\n",
      "Downloading http://fashion-mnist.s3-website.eu-central-1.amazonaws.com/t10k-labels-idx1-ubyte.gz\n",
      "Downloading http://fashion-mnist.s3-website.eu-central-1.amazonaws.com/t10k-labels-idx1-ubyte.gz to ./data/FashionMNIST/raw/t10k-labels-idx1-ubyte.gz\n"
     ]
    },
    {
     "name": "stderr",
     "output_type": "stream",
     "text": [
      "100%|██████████| 5148/5148 [00:00<00:00, 12171520.29it/s]"
     ]
    },
    {
     "name": "stdout",
     "output_type": "stream",
     "text": [
      "Extracting ./data/FashionMNIST/raw/t10k-labels-idx1-ubyte.gz to ./data/FashionMNIST/raw\n",
      "\n",
      "Training set has 60000 instances\n",
      "Validation set has 10000 instances\n"
     ]
    },
    {
     "name": "stderr",
     "output_type": "stream",
     "text": [
      "\n"
     ]
    }
   ],
   "source": [
    "import torch\n",
    "import torchvision\n",
    "import torchvision.transforms as transforms\n",
    "\n",
    "# PyTorch TensorBoard support\n",
    "from torch.utils.tensorboard import SummaryWriter\n",
    "from datetime import datetime\n",
    "\n",
    "\n",
    "transform = transforms.Compose(\n",
    "    [transforms.ToTensor(),\n",
    "    transforms.Normalize((0.5,), (0.5,))])\n",
    "\n",
    "# Create datasets for training & validation, download if necessary\n",
    "training_set = torchvision.datasets.FashionMNIST('./data', train=True, transform=transform, download=True)\n",
    "validation_set = torchvision.datasets.FashionMNIST('./data', train=False, transform=transform, download=True)\n",
    "\n",
    "# Create data loaders for our datasets; shuffle for training, not for validation\n",
    "training_loader = torch.utils.data.DataLoader(training_set, batch_size=4, shuffle=True)\n",
    "validation_loader = torch.utils.data.DataLoader(validation_set, batch_size=4, shuffle=False)\n",
    "\n",
    "# Class labels\n",
    "classes = ('T-shirt/top', 'Trouser', 'Pullover', 'Dress', 'Coat',\n",
    "        'Sandal', 'Shirt', 'Sneaker', 'Bag', 'Ankle Boot')\n",
    "\n",
    "# Report split sizes\n",
    "print('Training set has {} instances'.format(len(training_set)))\n",
    "print('Validation set has {} instances'.format(len(validation_set)))"
   ]
  },
  {
   "cell_type": "code",
   "execution_count": null,
   "metadata": {},
   "outputs": [],
   "source": [
    "for i, data in enumerate(training_loader):\n",
    "    print(i)\n",
    "    print(data)"
   ]
  }
 ],
 "metadata": {
  "kernelspec": {
   "display_name": "Python 3",
   "language": "python",
   "name": "python3"
  },
  "language_info": {
   "codemirror_mode": {
    "name": "ipython",
    "version": 3
   },
   "file_extension": ".py",
   "mimetype": "text/x-python",
   "name": "python",
   "nbconvert_exporter": "python",
   "pygments_lexer": "ipython3",
   "version": "3.10.12"
  }
 },
 "nbformat": 4,
 "nbformat_minor": 2
}
